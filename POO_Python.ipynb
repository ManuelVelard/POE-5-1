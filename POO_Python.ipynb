{
  "nbformat": 4,
  "nbformat_minor": 0,
  "metadata": {
    "colab": {
      "name": "POO Python",
      "provenance": [],
      "authorship_tag": "ABX9TyOiIwnr8nhnfIa4mOF5Fphd",
      "include_colab_link": true
    },
    "kernelspec": {
      "name": "python3",
      "display_name": "Python 3"
    },
    "language_info": {
      "name": "python"
    }
  },
  "cells": [
    {
      "cell_type": "markdown",
      "metadata": {
        "id": "view-in-github",
        "colab_type": "text"
      },
      "source": [
        "<a href=\"https://colab.research.google.com/github/ManuelVelard/POE-5-1/blob/main/POO_Python.ipynb\" target=\"_parent\"><img src=\"https://colab.research.google.com/assets/colab-badge.svg\" alt=\"Open In Colab\"/></a>"
      ]
    },
    {
      "cell_type": "code",
      "source": [
        "class persona(): #clase persona\n",
        "  def __init__(self, nombre, edad): #se inicializa con nombre y edad\n",
        "      self.nombre= nombre\n",
        "      self.edad= edad"
      ],
      "metadata": {
        "id": "nevL0HCYAfjd"
      },
      "execution_count": 12,
      "outputs": []
    },
    {
      "cell_type": "code",
      "source": [
        "Manuel = persona(\"Manuel Velarde\", 23)"
      ],
      "metadata": {
        "id": "YXjRBSZgBOVk"
      },
      "execution_count": 13,
      "outputs": []
    },
    {
      "cell_type": "code",
      "source": [
        "#ejercicio 1. imprimir edad.\n",
        "Manuel.edad"
      ],
      "metadata": {
        "colab": {
          "base_uri": "https://localhost:8080/"
        },
        "id": "lMEBuOKQBas0",
        "outputId": "acdf0a82-c2e3-4c0b-8e0a-e9c9c168a481"
      },
      "execution_count": 14,
      "outputs": [
        {
          "output_type": "execute_result",
          "data": {
            "text/plain": [
              "23"
            ]
          },
          "metadata": {},
          "execution_count": 14
        }
      ]
    }
  ]
}